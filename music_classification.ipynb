{
  "cells": [
    {
      "cell_type": "markdown",
      "metadata": {
        "id": "view-in-github",
        "colab_type": "text"
      },
      "source": [
        "<a href=\"https://colab.research.google.com/github/MorningStarTM/Machine-Learning-examples/blob/main/music_classification.ipynb\" target=\"_parent\"><img src=\"https://colab.research.google.com/assets/colab-badge.svg\" alt=\"Open In Colab\"/></a>"
      ]
    },
    {
      "cell_type": "code",
      "execution_count": 31,
      "metadata": {
        "id": "Rma8rTa5cOpo"
      },
      "outputs": [],
      "source": [
        "import re\n",
        "import pandas as pd\n",
        "\n",
        "from sklearn.feature_extraction.text import CountVectorizer\n",
        "from sklearn.model_selection import train_test_split\n",
        "\n",
        "from keras.preprocessing import sequence\n",
        "from keras.preprocessing.text import Tokenizer\n",
        "from keras.preprocessing.sequence import pad_sequences\n",
        "from keras.models import Sequential\n",
        "from keras.layers import Dense, Embedding, LSTM\n",
        "\n",
        "from keras.utils.np_utils import to_categorical\n",
        "\n",
        "import warnings\n",
        "warnings.filterwarnings('ignore')\n",
        "import ssl\n",
        "ssl._create_default_https_context = ssl._create_unverified_context"
      ]
    },
    {
      "cell_type": "code",
      "execution_count": 32,
      "metadata": {
        "id": "T-THYoEJdeIM"
      },
      "outputs": [],
      "source": [
        "df = pd.read_csv(\"train.csv\")"
      ]
    },
    {
      "cell_type": "code",
      "source": [
        "df['lyric'][1]"
      ],
      "metadata": {
        "colab": {
          "base_uri": "https://localhost:8080/",
          "height": 36
        },
        "id": "T42TI6OuPSpO",
        "outputId": "08465d5b-cf65-490f-acd7-8301962cb01b"
      },
      "execution_count": 33,
      "outputs": [
        {
          "output_type": "execute_result",
          "data": {
            "text/plain": [
              "\"Now Lil Pump flyin' private jet (Yuh)\""
            ],
            "application/vnd.google.colaboratory.intrinsic+json": {
              "type": "string"
            }
          },
          "metadata": {},
          "execution_count": 33
        }
      ]
    },
    {
      "cell_type": "code",
      "execution_count": 34,
      "metadata": {
        "id": "utpLEHAVj5MA"
      },
      "outputs": [],
      "source": [
        "df['lyric'] = df['lyric'].apply(lambda  x: x.lower())\n",
        "df['lyric'] = df['lyric'].apply((lambda x: re.sub('[^a-zA-Z0-9\\s]','',x)))"
      ]
    },
    {
      "cell_type": "code",
      "source": [
        "df['lyric'][1]"
      ],
      "metadata": {
        "colab": {
          "base_uri": "https://localhost:8080/",
          "height": 36
        },
        "id": "MXH-a4gFPcf2",
        "outputId": "84234079-1815-43cb-b025-2fae2c56f0ea"
      },
      "execution_count": 35,
      "outputs": [
        {
          "output_type": "execute_result",
          "data": {
            "text/plain": [
              "'now lil pump flyin private jet yuh'"
            ],
            "application/vnd.google.colaboratory.intrinsic+json": {
              "type": "string"
            }
          },
          "metadata": {},
          "execution_count": 35
        }
      ]
    },
    {
      "cell_type": "code",
      "execution_count": 36,
      "metadata": {
        "id": "ajCk0KpYDTMX"
      },
      "outputs": [],
      "source": [
        "max_feature = 1000\n",
        "tokenizer = Tokenizer(nb_words=max_feature, split=\" \")\n",
        "tokenizer.fit_on_texts(df['lyric'].values)\n",
        "X = tokenizer.texts_to_sequences(df['lyric'].values)\n",
        "X = pad_sequences(X)"
      ]
    },
    {
      "cell_type": "code",
      "execution_count": 37,
      "metadata": {
        "id": "UzJq5eynCbT9"
      },
      "outputs": [],
      "source": [
        "y = df['class']"
      ]
    },
    {
      "cell_type": "code",
      "execution_count": 38,
      "metadata": {
        "id": "nCZYg6alcdL-"
      },
      "outputs": [],
      "source": [
        "x_train, x_test, y_train, y_test = train_test_split(X,y, random_state=1, test_size=0.4)"
      ]
    },
    {
      "cell_type": "code",
      "source": [
        "x_train[18]"
      ],
      "metadata": {
        "colab": {
          "base_uri": "https://localhost:8080/"
        },
        "id": "a61C6dXYOpAX",
        "outputId": "45b70879-77a8-4c49-af36-fcb25739e193"
      },
      "execution_count": 39,
      "outputs": [
        {
          "output_type": "execute_result",
          "data": {
            "text/plain": [
              "array([  0,   0,   0,   0,   0,   0,   0,   0,   0,   0,   0,   0,   0,\n",
              "         0,   0,   0,   0,   0,   0,   0,   0,   0,   0,   0,   0,   0,\n",
              "         0,   0,   0,   0,   0,   0,   0,   0,   0,   0,   0,   0,   0,\n",
              "         0,   0,   0,   0,   0,   0,   0,   0,   0,   0,   0,   0,   0,\n",
              "         0,   0,   0,   0,   0,   0,   0,   0,   2,  18,   2, 100,  40,\n",
              "        31,   7,  40,  31,   7,   6,  52], dtype=int32)"
            ]
          },
          "metadata": {},
          "execution_count": 39
        }
      ]
    },
    {
      "cell_type": "code",
      "execution_count": 40,
      "metadata": {
        "colab": {
          "base_uri": "https://localhost:8080/"
        },
        "id": "JY16FJ5vdtkJ",
        "outputId": "f0eb05fd-4068-4178-9f82-6673dcf57a3b"
      },
      "outputs": [
        {
          "output_type": "stream",
          "name": "stdout",
          "text": [
            "X_train:  (30632, 72)\n",
            "y_train (30632,)\n",
            "x_test (20422, 72)\n",
            "y_test (20422,)\n"
          ]
        }
      ],
      "source": [
        "print(\"X_train: \",x_train.shape)\n",
        "print(\"y_train\", y_train.shape)\n",
        "print(\"x_test\", x_test.shape)\n",
        "print(\"y_test\",y_test.shape)"
      ]
    },
    {
      "cell_type": "code",
      "source": [
        "from keras.layers import Dropout"
      ],
      "metadata": {
        "id": "yOzmaw19SKmu"
      },
      "execution_count": 43,
      "outputs": []
    },
    {
      "cell_type": "code",
      "source": [
        "import tensorflow as tf"
      ],
      "metadata": {
        "id": "YtHn4rneTwyX"
      },
      "execution_count": 50,
      "outputs": []
    },
    {
      "cell_type": "code",
      "execution_count": 51,
      "metadata": {
        "id": "R9HGKRaHf8uC",
        "colab": {
          "base_uri": "https://localhost:8080/"
        },
        "outputId": "ba2b3543-12ed-4e51-e2ed-d08c1eccf41e"
      },
      "outputs": [
        {
          "output_type": "stream",
          "name": "stdout",
          "text": [
            "Model: \"sequential_6\"\n",
            "_________________________________________________________________\n",
            " Layer (type)                Output Shape              Param #   \n",
            "=================================================================\n",
            " embedding_3 (Embedding)     (None, 72, 128)           128000    \n",
            "                                                                 \n",
            " dropout_3 (Dropout)         (None, 72, 128)           0         \n",
            "                                                                 \n",
            " lstm_3 (LSTM)               (None, 128)               131584    \n",
            "                                                                 \n",
            " dense_3 (Dense)             (None, 2)                 258       \n",
            "                                                                 \n",
            "=================================================================\n",
            "Total params: 259,842\n",
            "Trainable params: 259,842\n",
            "Non-trainable params: 0\n",
            "_________________________________________________________________\n",
            "None\n"
          ]
        }
      ],
      "source": [
        "model = Sequential()\n",
        "model.add(Embedding(max_feature, 128, input_length=X.shape[1]))\n",
        "model.add(Dropout(0.2))\n",
        "model.add(LSTM(128))\n",
        "model.add(Dense(2, activation=\"softmax\"))\n",
        "model.compile(optimizer='adam',loss = tf.keras.losses.SparseCategoricalCrossentropy(from_logits=True), metrics=['accuracy'])\n",
        "print(model.summary())"
      ]
    },
    {
      "cell_type": "code",
      "source": [
        "x_train.shape"
      ],
      "metadata": {
        "colab": {
          "base_uri": "https://localhost:8080/"
        },
        "id": "cIdVNUGCTURG",
        "outputId": "ecaafead-2e81-4871-95b8-b9c5c37050ab"
      },
      "execution_count": 52,
      "outputs": [
        {
          "output_type": "execute_result",
          "data": {
            "text/plain": [
              "(30632, 72)"
            ]
          },
          "metadata": {},
          "execution_count": 52
        }
      ]
    },
    {
      "cell_type": "code",
      "source": [
        "batch_size = 32\n",
        "model.fit(x_train, y_train, epochs=10, batch_size=batch_size, verbose=2)"
      ],
      "metadata": {
        "colab": {
          "base_uri": "https://localhost:8080/"
        },
        "id": "aX2ww7JEQqH_",
        "outputId": "9a93ce4a-250f-451f-dc3b-35f7d670a3cc"
      },
      "execution_count": 56,
      "outputs": [
        {
          "output_type": "stream",
          "name": "stdout",
          "text": [
            "Epoch 1/10\n",
            "958/958 - 8s - loss: 0.3858 - accuracy: 0.8224 - 8s/epoch - 9ms/step\n",
            "Epoch 2/10\n",
            "958/958 - 6s - loss: 0.3605 - accuracy: 0.8373 - 6s/epoch - 7ms/step\n",
            "Epoch 3/10\n",
            "958/958 - 6s - loss: 0.3340 - accuracy: 0.8517 - 6s/epoch - 7ms/step\n",
            "Epoch 4/10\n",
            "958/958 - 6s - loss: 0.3090 - accuracy: 0.8637 - 6s/epoch - 7ms/step\n",
            "Epoch 5/10\n",
            "958/958 - 6s - loss: 0.2791 - accuracy: 0.8774 - 6s/epoch - 7ms/step\n",
            "Epoch 6/10\n",
            "958/958 - 6s - loss: 0.2513 - accuracy: 0.8914 - 6s/epoch - 7ms/step\n",
            "Epoch 7/10\n",
            "958/958 - 7s - loss: 0.2262 - accuracy: 0.9025 - 7s/epoch - 7ms/step\n",
            "Epoch 8/10\n",
            "958/958 - 6s - loss: 0.2021 - accuracy: 0.9130 - 6s/epoch - 7ms/step\n",
            "Epoch 9/10\n",
            "958/958 - 6s - loss: 0.1850 - accuracy: 0.9214 - 6s/epoch - 7ms/step\n",
            "Epoch 10/10\n",
            "958/958 - 6s - loss: 0.1674 - accuracy: 0.9296 - 6s/epoch - 7ms/step\n"
          ]
        },
        {
          "output_type": "execute_result",
          "data": {
            "text/plain": [
              "<keras.callbacks.History at 0x7fda616c07d0>"
            ]
          },
          "metadata": {},
          "execution_count": 56
        }
      ]
    },
    {
      "cell_type": "code",
      "source": [
        "score, acc = model.evaluate(x_test, y_test, verbose= 2, batch_size=batch_size)\n",
        "print(\"Score : \", score)\n",
        "print(\"Accuracy : \", acc*100)"
      ],
      "metadata": {
        "colab": {
          "base_uri": "https://localhost:8080/"
        },
        "id": "IOR8C7k0TKV9",
        "outputId": "c9078955-c43d-4abb-fe66-3063be1af184"
      },
      "execution_count": 57,
      "outputs": [
        {
          "output_type": "stream",
          "name": "stdout",
          "text": [
            "639/639 - 2s - loss: 0.6375 - accuracy: 0.8149 - 2s/epoch - 3ms/step\n",
            "Score :  0.6375293135643005\n",
            "Accuracy :  81.49054646492004\n"
          ]
        }
      ]
    },
    {
      "cell_type": "markdown",
      "source": [
        "#Different method and adjusting parameters"
      ],
      "metadata": {
        "id": "Vf0wWXrTXLdc"
      }
    },
    {
      "cell_type": "code",
      "source": [
        "model = Sequential()\n",
        "model.add(Embedding(max_feature, 128, input_length=X.shape[1]))\n",
        "model.add(Dropout(0.2))\n",
        "model.add(LSTM(128))\n",
        "model.add(Dense(2, activation=\"softmax\"))\n",
        "model.compile(optimizer='adam',loss = tf.keras.losses.SparseCategoricalCrossentropy(from_logits=True), metrics=['accuracy'])\n",
        "print(model.summary())"
      ],
      "metadata": {
        "colab": {
          "base_uri": "https://localhost:8080/"
        },
        "id": "kWbFc_zBUyv9",
        "outputId": "b558e203-12c5-4f34-c5c8-373ffb4e269d"
      },
      "execution_count": 85,
      "outputs": [
        {
          "output_type": "stream",
          "name": "stdout",
          "text": [
            "Model: \"sequential_16\"\n",
            "_________________________________________________________________\n",
            " Layer (type)                Output Shape              Param #   \n",
            "=================================================================\n",
            " embedding_13 (Embedding)    (None, 72, 128)           128000    \n",
            "                                                                 \n",
            " dropout_12 (Dropout)        (None, 72, 128)           0         \n",
            "                                                                 \n",
            " lstm_13 (LSTM)              (None, 128)               131584    \n",
            "                                                                 \n",
            " dense_13 (Dense)            (None, 2)                 258       \n",
            "                                                                 \n",
            "=================================================================\n",
            "Total params: 259,842\n",
            "Trainable params: 259,842\n",
            "Non-trainable params: 0\n",
            "_________________________________________________________________\n",
            "None\n"
          ]
        }
      ]
    },
    {
      "cell_type": "code",
      "source": [
        "batch_size = 32\n",
        "model.fit(x_train, y_train, epochs=10, batch_size=batch_size, verbose=2)"
      ],
      "metadata": {
        "colab": {
          "base_uri": "https://localhost:8080/"
        },
        "id": "4RgDPtDBXUWR",
        "outputId": "270fe499-05e9-4799-f084-a101c9e78dde"
      },
      "execution_count": 86,
      "outputs": [
        {
          "output_type": "stream",
          "name": "stdout",
          "text": [
            "Epoch 1/10\n",
            "958/958 - 8s - loss: 0.5276 - accuracy: 0.7299 - 8s/epoch - 8ms/step\n",
            "Epoch 2/10\n",
            "958/958 - 6s - loss: 0.4711 - accuracy: 0.7695 - 6s/epoch - 7ms/step\n",
            "Epoch 3/10\n",
            "958/958 - 6s - loss: 0.4463 - accuracy: 0.7847 - 6s/epoch - 7ms/step\n",
            "Epoch 4/10\n",
            "958/958 - 6s - loss: 0.4242 - accuracy: 0.7990 - 6s/epoch - 6ms/step\n",
            "Epoch 5/10\n",
            "958/958 - 6s - loss: 0.4024 - accuracy: 0.8112 - 6s/epoch - 6ms/step\n",
            "Epoch 6/10\n",
            "958/958 - 6s - loss: 0.3814 - accuracy: 0.8247 - 6s/epoch - 7ms/step\n",
            "Epoch 7/10\n",
            "958/958 - 6s - loss: 0.3570 - accuracy: 0.8362 - 6s/epoch - 7ms/step\n",
            "Epoch 8/10\n",
            "958/958 - 6s - loss: 0.3322 - accuracy: 0.8509 - 6s/epoch - 7ms/step\n",
            "Epoch 9/10\n",
            "958/958 - 6s - loss: 0.3053 - accuracy: 0.8659 - 6s/epoch - 6ms/step\n",
            "Epoch 10/10\n",
            "958/958 - 6s - loss: 0.2779 - accuracy: 0.8781 - 6s/epoch - 7ms/step\n"
          ]
        },
        {
          "output_type": "execute_result",
          "data": {
            "text/plain": [
              "<keras.callbacks.History at 0x7fda1819f850>"
            ]
          },
          "metadata": {},
          "execution_count": 86
        }
      ]
    },
    {
      "cell_type": "code",
      "source": [
        "score, acc = model.evaluate(x_test, y_test, verbose= 2, batch_size=batch_size)\n",
        "print(\"Score : \", score)\n",
        "print(\"Accuracy : \", acc*100)"
      ],
      "metadata": {
        "colab": {
          "base_uri": "https://localhost:8080/"
        },
        "id": "h_zLW1wlXYUX",
        "outputId": "a8dc9071-bf19-4d35-9abf-e09ba65cedd6"
      },
      "execution_count": 87,
      "outputs": [
        {
          "output_type": "stream",
          "name": "stdout",
          "text": [
            "639/639 - 2s - loss: 0.5375 - accuracy: 0.7988 - 2s/epoch - 4ms/step\n",
            "Score :  0.5374852418899536\n",
            "Accuracy :  79.88443970680237\n"
          ]
        }
      ]
    },
    {
      "cell_type": "code",
      "source": [
        ""
      ],
      "metadata": {
        "id": "ZMehqkl2XcLt"
      },
      "execution_count": null,
      "outputs": []
    }
  ],
  "metadata": {
    "accelerator": "GPU",
    "colab": {
      "collapsed_sections": [],
      "name": "music_classification.ipynb",
      "provenance": [],
      "authorship_tag": "ABX9TyNcyEHncb3INBT7ZrQG2QHe",
      "include_colab_link": true
    },
    "gpuClass": "standard",
    "kernelspec": {
      "display_name": "Python 3",
      "name": "python3"
    },
    "language_info": {
      "name": "python"
    }
  },
  "nbformat": 4,
  "nbformat_minor": 0
}